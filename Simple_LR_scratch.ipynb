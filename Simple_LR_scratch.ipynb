{
 "cells": [
  {
   "cell_type": "markdown",
   "id": "a58683aa",
   "metadata": {},
   "source": [
    "# Simple Linear Regression   :  y = mx + b\n",
    "   ## from scratch"
   ]
  },
  {
   "cell_type": "code",
   "execution_count": 58,
   "id": "5fff6485",
   "metadata": {},
   "outputs": [],
   "source": [
    "class SimpleLR:\n",
    "    \n",
    "    def __init__(self):\n",
    "        self.m_slope = None\n",
    "        self.b_intercept = None\n",
    "        \n",
    "    def fit(self,x_train,y_train):\n",
    "        \n",
    "        nume = 0\n",
    "        deno = 0\n",
    "        \n",
    "        for i in range(x_train.shape[0]):\n",
    "            \n",
    "            nume = nume + ((x_train[i] - x_train.mean())*(y_train[i] - y_train.mean()))\n",
    "            deno = deno + ((x_train[i] - x_train.mean())*(x_train[i] - x_train.mean()))\n",
    "        \n",
    "        self.m_slope = nume/deno\n",
    "        self.b_intercept = y_train.mean() - (self.m_slope * x_train.mean())\n",
    "        print(\"Slope is: \",self.m_slope)\n",
    "        print(\"Intercept is: \",self.b_intercept)       \n",
    "    \n",
    "    def predict(self,x_test):\n",
    "        \n",
    "        print(x_test)\n",
    "        \n",
    "        return self.m_slope * x_test + self.b_intercept\n",
    "    \n",
    "    def package_predict(self):\n",
    "        \n",
    "        cgpa=float(input(\"Enter cgpa: \"))\n",
    "        \n",
    "        package=self.m_slope * cgpa + self.b_intercept\n",
    "        print(\"The package of student will be around: \",package)\n",
    "        "
   ]
  },
  {
   "cell_type": "code",
   "execution_count": 59,
   "id": "72a92b32",
   "metadata": {},
   "outputs": [],
   "source": [
    "import numpy as np\n",
    "import pandas as pd"
   ]
  },
  {
   "cell_type": "code",
   "execution_count": 60,
   "id": "7234e924",
   "metadata": {
    "scrolled": true
   },
   "outputs": [
    {
     "data": {
      "text/html": [
       "<div>\n",
       "<style scoped>\n",
       "    .dataframe tbody tr th:only-of-type {\n",
       "        vertical-align: middle;\n",
       "    }\n",
       "\n",
       "    .dataframe tbody tr th {\n",
       "        vertical-align: top;\n",
       "    }\n",
       "\n",
       "    .dataframe thead th {\n",
       "        text-align: right;\n",
       "    }\n",
       "</style>\n",
       "<table border=\"1\" class=\"dataframe\">\n",
       "  <thead>\n",
       "    <tr style=\"text-align: right;\">\n",
       "      <th></th>\n",
       "      <th>cgpa</th>\n",
       "      <th>package</th>\n",
       "    </tr>\n",
       "  </thead>\n",
       "  <tbody>\n",
       "    <tr>\n",
       "      <th>0</th>\n",
       "      <td>6.89</td>\n",
       "      <td>3.26</td>\n",
       "    </tr>\n",
       "    <tr>\n",
       "      <th>1</th>\n",
       "      <td>5.12</td>\n",
       "      <td>1.98</td>\n",
       "    </tr>\n",
       "    <tr>\n",
       "      <th>2</th>\n",
       "      <td>7.82</td>\n",
       "      <td>3.25</td>\n",
       "    </tr>\n",
       "    <tr>\n",
       "      <th>3</th>\n",
       "      <td>7.42</td>\n",
       "      <td>3.67</td>\n",
       "    </tr>\n",
       "    <tr>\n",
       "      <th>4</th>\n",
       "      <td>6.94</td>\n",
       "      <td>3.57</td>\n",
       "    </tr>\n",
       "  </tbody>\n",
       "</table>\n",
       "</div>"
      ],
      "text/plain": [
       "   cgpa  package\n",
       "0  6.89     3.26\n",
       "1  5.12     1.98\n",
       "2  7.82     3.25\n",
       "3  7.42     3.67\n",
       "4  6.94     3.57"
      ]
     },
     "execution_count": 60,
     "metadata": {},
     "output_type": "execute_result"
    }
   ],
   "source": [
    "df = pd.read_csv('placement.csv')\n",
    "df.head()"
   ]
  },
  {
   "cell_type": "code",
   "execution_count": 61,
   "id": "edc13093",
   "metadata": {},
   "outputs": [],
   "source": [
    "x = df.iloc[:,0].values\n",
    "y = df.iloc[:,1].values"
   ]
  },
  {
   "cell_type": "code",
   "execution_count": 62,
   "id": "a4c8bc58",
   "metadata": {},
   "outputs": [],
   "source": [
    "from sklearn.model_selection import train_test_split\n",
    "x_train,x_test,y_train,y_test = train_test_split(X,y,test_size=0.2,random_state=2)"
   ]
  },
  {
   "cell_type": "code",
   "execution_count": 63,
   "id": "8a689323",
   "metadata": {},
   "outputs": [
    {
     "data": {
      "text/plain": [
       "(160,)"
      ]
     },
     "execution_count": 63,
     "metadata": {},
     "output_type": "execute_result"
    }
   ],
   "source": [
    "x_train.shape"
   ]
  },
  {
   "cell_type": "code",
   "execution_count": 64,
   "id": "69080176",
   "metadata": {},
   "outputs": [],
   "source": [
    "linear = SimpleLR()"
   ]
  },
  {
   "cell_type": "code",
   "execution_count": 65,
   "id": "89d7dc2a",
   "metadata": {},
   "outputs": [
    {
     "name": "stdout",
     "output_type": "stream",
     "text": [
      "Slope is:  0.5579519734250721\n",
      "Intercept is:  -0.8961119222429152\n"
     ]
    }
   ],
   "source": [
    "linear.fit(x_train,y_train)"
   ]
  },
  {
   "cell_type": "code",
   "execution_count": 66,
   "id": "0c96cf7a",
   "metadata": {},
   "outputs": [
    {
     "name": "stdout",
     "output_type": "stream",
     "text": [
      "Enter cgpa: 8.9\n",
      "The package of student will be around:  4.069660641240226\n"
     ]
    }
   ],
   "source": [
    "linear.package_predict()"
   ]
  }
 ],
 "metadata": {
  "kernelspec": {
   "display_name": "Python 3 (ipykernel)",
   "language": "python",
   "name": "python3"
  },
  "language_info": {
   "codemirror_mode": {
    "name": "ipython",
    "version": 3
   },
   "file_extension": ".py",
   "mimetype": "text/x-python",
   "name": "python",
   "nbconvert_exporter": "python",
   "pygments_lexer": "ipython3",
   "version": "3.9.7"
  }
 },
 "nbformat": 4,
 "nbformat_minor": 5
}
